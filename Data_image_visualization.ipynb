{
 "cells": [
  {
   "cell_type": "code",
   "execution_count": 1,
   "metadata": {},
   "outputs": [],
   "source": [
    "import tensorflow as tf\n",
    "import numpy as np"
   ]
  },
  {
   "cell_type": "code",
   "execution_count": 2,
   "metadata": {},
   "outputs": [],
   "source": [
    "import os\n",
    "from multiprocessing.pool import Pool\n",
    "\n",
    "import click\n",
    "import numpy as np\n",
    "from PIL import Image, ImageFilter"
   ]
  },
  {
   "cell_type": "code",
   "execution_count": 3,
   "metadata": {},
   "outputs": [],
   "source": [
    "fname = \"./train/train_256/19949_right.tiff\""
   ]
  },
  {
   "cell_type": "code",
   "execution_count": 4,
   "metadata": {},
   "outputs": [],
   "source": [
    "img = Image.open(fname)"
   ]
  },
  {
   "cell_type": "code",
   "execution_count": 5,
   "metadata": {},
   "outputs": [],
   "source": [
    "b = np.array(img)"
   ]
  },
  {
   "cell_type": "code",
   "execution_count": 6,
   "metadata": {},
   "outputs": [],
   "source": [
    "img.show()"
   ]
  },
  {
   "cell_type": "code",
   "execution_count": 7,
   "metadata": {},
   "outputs": [],
   "source": [
    "def convert(fname, crop_size):\n",
    "    img = Image.open(fname)\n",
    "\n",
    "    blurred = img.filter(ImageFilter.BLUR)\n",
    "    ba = np.array(blurred)\n",
    "    h, w, _ = ba.shape\n",
    "\n",
    "    if w > 1.2 * h:\n",
    "        left_max = ba[:, : w // 32, :].max(axis=(0, 1)).astype(int)\n",
    "        right_max = ba[:, - w // 32:, :].max(axis=(0, 1)).astype(int)\n",
    "        max_bg = np.maximum(left_max, right_max)\n",
    "\n",
    "        foreground = (ba > max_bg + 10).astype(np.uint8)\n",
    "        bbox = Image.fromarray(foreground).getbbox()\n",
    "\n",
    "        if bbox is None:\n",
    "            print('bbox none for {} (???)'.format(fname))\n",
    "        else:\n",
    "            left, upper, right, lower = bbox\n",
    "            # if we selected less than 80% of the original \n",
    "            # height, just crop the square\n",
    "            if right - left < 0.8 * h or lower - upper < 0.8 * h:\n",
    "                print('bbox too small for {}'.format(fname))\n",
    "                bbox = None\n",
    "    else:\n",
    "        bbox = None\n",
    "\n",
    "    if bbox is None:\n",
    "        bbox = square_bbox(img)\n",
    "\n",
    "    cropped = img.crop(bbox)\n",
    "    resized = cropped.resize([crop_size, crop_size])\n",
    "    return resized\n",
    "\n",
    "\n",
    "def square_bbox(img):\n",
    "    w, h = img.size\n",
    "    left = max((w - h) // 2, 0)\n",
    "    upper = 0\n",
    "    right = min(w - (w - h) // 2, w)\n",
    "    lower = h\n",
    "    return (left, upper, right, lower)\n",
    "\n",
    "\n",
    "def convert_square(fname, crop_size):\n",
    "    img = Image.open(fname)\n",
    "    bbox = square_bbox(img)\n",
    "    cropped = img.crop(bbox)\n",
    "    resized = cropped.resize([crop_size, crop_size])\n",
    "    return resized\n",
    "\n",
    "\n",
    "def get_convert_fname(fname, extension, directory, convert_directory):\n",
    "    return fname.replace('jpeg', extension).replace(directory, \n",
    "                                                    convert_directory)\n",
    "\n",
    "\n",
    "def process(args):\n",
    "    fun, arg = args\n",
    "    directory, convert_directory, fname, crop_size, extension = arg\n",
    "    convert_fname = get_convert_fname(fname, extension, directory, \n",
    "                                      convert_directory)\n",
    "    if not os.path.exists(convert_fname):\n",
    "        img = fun(fname, crop_size)\n",
    "        save(img, convert_fname) \n",
    "\n",
    "\n",
    "def save(img, fname):\n",
    "    img.save(fname, quality=97)"
   ]
  },
  {
   "cell_type": "code",
   "execution_count": 8,
   "metadata": {},
   "outputs": [],
   "source": [
    "t = convert(fname,512)"
   ]
  },
  {
   "cell_type": "code",
   "execution_count": 9,
   "metadata": {},
   "outputs": [],
   "source": [
    "b = np.array(t)"
   ]
  },
  {
   "cell_type": "code",
   "execution_count": 10,
   "metadata": {},
   "outputs": [
    {
     "data": {
      "text/plain": [
       "(512, 512, 3)"
      ]
     },
     "execution_count": 10,
     "metadata": {},
     "output_type": "execute_result"
    }
   ],
   "source": [
    "b.shape"
   ]
  },
  {
   "cell_type": "code",
   "execution_count": 11,
   "metadata": {},
   "outputs": [],
   "source": [
    "t.show()"
   ]
  },
  {
   "cell_type": "code",
   "execution_count": null,
   "metadata": {},
   "outputs": [],
   "source": []
  }
 ],
 "metadata": {
  "kernelspec": {
   "display_name": "Python 3",
   "language": "python",
   "name": "python3"
  },
  "language_info": {
   "codemirror_mode": {
    "name": "ipython",
    "version": 3
   },
   "file_extension": ".py",
   "mimetype": "text/x-python",
   "name": "python",
   "nbconvert_exporter": "python",
   "pygments_lexer": "ipython3",
   "version": "3.6.8"
  }
 },
 "nbformat": 4,
 "nbformat_minor": 2
}
